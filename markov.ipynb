{
 "cells": [
  {
   "cell_type": "markdown",
   "metadata": {
    "collapsed": true
   },
   "source": [
    "<h1 align=\"center\">Markov Chain Sentence Generator</h1>"
   ]
  },
  {
   "cell_type": "code",
   "execution_count": null,
   "metadata": {},
   "outputs": [],
   "source": [
    "import numpy as np"
   ]
  },
  {
   "cell_type": "code",
   "execution_count": 2,
   "metadata": {},
   "outputs": [],
   "source": [
    "def random_chain(n):\n",
    "    \"\"\"Create and return a transition matrix for a random Markov chain with\n",
    "    'n' states. This should be stored as an nxn NumPy array.\n",
    "    \"\"\"\n",
    "\n",
    "    temp = np.random.random((n,n))\n",
    "    temp = temp/np.sum(temp,axis=0)\n",
    "            \n",
    "    return temp"
   ]
  },
  {
   "cell_type": "code",
   "execution_count": 3,
   "metadata": {},
   "outputs": [],
   "source": [
    "def forecast(days):\n",
    "    \"\"\"Forecast tomorrow's weather given that today is hot.\"\"\"\n",
    "    transition = np.array([[0.7, 0.6], [0.3, 0.4]])\n",
    "    forecast = np.zeros(days+1,dtype=np.int8)\n",
    "    # Sample from a binomial distribution to choose a new state.\n",
    "    for i in range(days):\n",
    "        forecast[i+1] = np.random.binomial(1, transition[forecast[i],0])\n",
    "    return forecast[1:]"
   ]
  },
  {
   "cell_type": "code",
   "execution_count": 4,
   "metadata": {},
   "outputs": [],
   "source": [
    "def four_state_forecast(days):\n",
    "    \"\"\"Run a simulation for the weather over the specified number of days,\n",
    "    with mild as the starting state, using the four-state Markov chain.\n",
    "    Return a list containing the day-by-day results, not including the\n",
    "    starting day.\n",
    "\n",
    "    Examples:\n",
    "        >>> four_state_forecast(3)\n",
    "        [0, 1, 3]\n",
    "        >>> four_state_forecast(5)\n",
    "        [2, 1, 2, 1, 1]\n",
    "    \"\"\"\n",
    "\n",
    "    transition = np.array([[.5, .3, .1, 0],\n",
    "                           [.3, .3, .3, .3],\n",
    "                           [.2, .3, .4, .5],\n",
    "                           [0, .1, .2, .2]])\n",
    "    \n",
    "    forecast = np.ones(days+1,dtype=np.int8)\n",
    "    # Sample from a binomial distribution to choose a new state.\n",
    "    for i in range(days):\n",
    "        forecast[i+1] = np.random.multinomial(1, transition[forecast[i]])[1]\n",
    "    return forecast[1:]"
   ]
  },
  {
   "cell_type": "code",
   "execution_count": 40,
   "metadata": {
    "collapsed": true
   },
   "outputs": [],
   "source": [
    "def steady_state(A, tol=1e-12, N=40):\n",
    "    \"\"\"Compute the steady state of the transition matrix A.\n",
    "\n",
    "    Inputs:\n",
    "        A ((n,n) ndarray): A column-stochastic transition matrix.\n",
    "        tol (float): The convergence tolerance.\n",
    "        N (int): The maximum number of iterations to compute.\n",
    "\n",
    "    Raises:\n",
    "        ValueError: if the iteration does not converge within N steps.\n",
    "\n",
    "    Returns:\n",
    "        x ((n,) ndarray): The steady state distribution vector of A.\n",
    "    \"\"\"\n",
    "    r,c = A.shape\n",
    "    x = np.random.random(c)\n",
    "    x = x/np.sum(x,axis=0)\n",
    "    i = 1\n",
    "    while True:\n",
    "        x_n = A@x\n",
    "        if np.linalg.norm(x-x_n) < tol:\n",
    "            break\n",
    "        if i > N:\n",
    "            raise ValueError(\"maximum iteration depth exceeded!\")\n",
    "        i += 1\n",
    "        x = x_n\n",
    "    \n",
    "    return x"
   ]
  },
  {
   "cell_type": "code",
   "execution_count": 41,
   "metadata": {},
   "outputs": [],
   "source": [
    "A = np.array([[.5, .3, .1, 0],\n",
    "              [.3, .3, .3, .3],\n",
    "              [.2, .3, .4, .5],\n",
    "              [0, .1, .2, .2]])\n",
    "B = np.array([[0.7, 0.6], [0.3, 0.4]])\n",
    "x = steady_state(A)"
   ]
  },
  {
   "cell_type": "code",
   "execution_count": 43,
   "metadata": {},
   "outputs": [
    {
     "name": "stdout",
     "output_type": "stream",
     "text": [
      "[ 0.24655172  0.3         0.33275862  0.12068966]\n",
      "[ 0.24655172  0.3         0.33275862  0.12068966]\n"
     ]
    }
   ],
   "source": [
    "print(A@ x)\n",
    "print(x)"
   ]
  },
  {
   "cell_type": "code",
   "execution_count": 20,
   "metadata": {},
   "outputs": [],
   "source": [
    "class SentenceGenerator(object):\n",
    "    \"\"\"Markov chain creator for simulating bad English.\n",
    "\n",
    "    Attributes:\n",
    "        (what attributes do you need to keep track of?)\n",
    "\n",
    "    Example:\n",
    "        >>> yoda = SentenceGenerator(\"Yoda.txt\")\n",
    "        >>> print(yoda.babble())\n",
    "        The dark side of loss is a path as one with you.\n",
    "    \"\"\"\n",
    "    def __init__(self, filename):\n",
    "        \"\"\"Read the specified file and build a transition matrix from its\n",
    "        contents. You may assume that the file has one complete sentence\n",
    "        written on each line.\n",
    "        \"\"\"\n",
    "\n",
    "        words = []\n",
    "        #count num unique words\n",
    "        with open(filename, 'r') as infile:\n",
    "            lines = [x for x in infile.readlines()]\n",
    "            for line in lines:\n",
    "                contents = [x for x in line.strip().split(' ')]\n",
    "                [words.append(i) for i in contents if i not in words]\n",
    "            num_words = len(words)\n",
    "\n",
    "            trans = np.zeros((num_words+2, num_words+2))\n",
    "\n",
    "            state = [x for x in words]\n",
    "            states = [\"$tart\"] + state + [\"$top\"]\n",
    "\n",
    "            for sent in lines:\n",
    "                contents = [x for x in line.strip().split(' ')]\n",
    "                #add 1 to the first col for every first word in sentence\n",
    "                \n",
    "                #add 1 to the word2 row of word1 col for all words\n",
    "                #add 1 to last word in sentence col, last row\n",
    "                #add 1 to len,len of matrix\n",
    "                states.index(myword)"
   ]
  },
  {
   "cell_type": "code",
   "execution_count": 21,
   "metadata": {},
   "outputs": [
    {
     "name": "stdout",
     "output_type": "stream",
     "text": [
      "['$tart', 'Away', 'with', 'your', 'weapon!', 'I', 'mean', 'you', 'no', 'harm.', 'am', 'wondering', '-', 'why', 'are', 'here?', 'Found', 'someone', 'have,', 'would', 'say', 'hmmm!', 'Help', 'you,', 'can.', 'Wars', 'not', 'make', 'one', 'great!', 'How', 'get', 'so', 'big', 'eating', 'food', 'of', 'this', 'kind?', 'Mine!', 'Or', 'will', 'help', 'not.', 'My', 'home', 'is!', 'Stay', 'and', 'will.', 'Take', 'to', 'him', 'For', 'the', 'Jedi', 'it', 'is', 'time', 'eat', 'as', 'well.', 'Soon', 'be', 'him.', 'Why', 'wish', 'become', 'Jedi?', 'Powerful', 'was', 'he,', 'powerful', 'Jedi.', 'cannot', 'teach', 'The', 'boy', 'has', 'patience.', 'Much', 'anger', 'in', 'like', 'his', 'father.', 'Ready', 'you?', 'What', 'know', 'ready?', 'eight', 'hundred', 'years', 'have', 'trained', 'own', 'counsel', 'keep', 'on', 'who', 'trained.', 'A', 'must', 'deepest', 'commitment,', 'most', 'serious', 'mind.', 'This', 'a', 'long', 'watched.', 'All', 'life', 'he', 'looked', 'away', 'future', 'horizon.', 'Never', 'mind', 'where', 'was!', 'craves', 'these', 'things.', 'You', 'reckless!', 'He', 'too', 'old.', 'Yes,', 'old', 'begin', 'training.', 'Will', 'finished', 'what', 'begins?', 'Oh,', 'be.', \"Jedi's\", 'strength', 'flows', 'from', 'Force.', 'But', 'beware', 'dark', 'side.', 'side', 'Force', 'they.', 'Easily', 'they', 'flow', 'quick', 'join', 'fight.', 'If', 'once', 'start', 'down', 'path,', 'forever', 'dominate', 'destiny;', 'consume', 'will,', 'did', \"Obi-Wan's\", 'apprentice.', 'know.', 'When', 'calm,', 'at', 'peace.', 'uses', 'for', 'knowledge', 'defense,', 'never', 'attack.', 'Nothing', 'more', 'today.', 'Clear', 'questions.', 'domain', 'evil', 'is.', 'In', 'go.', 'So', 'certain,', 'Always', 'done.', 'Hear', 'nothing', 'that', 'say?', 'unlearn', 'learned.', 'Try', 'Do,', 'or', 'do', 'There', 'try.', 'Size', 'matters', 'Look', 'me.', 'Judge', 'me', 'by', 'my', 'size,', 'And', 'well', 'should', 'ally', 'Life', 'creates', 'it,', 'makes', 'grow.', 'Its', 'energy', 'surrounds', 'us', 'binds', 'us.', 'Luminous', 'beings', 'we,', 'crude', 'matter.', 'feel', 'around', 'you.', 'even', 'between', 'land', 'ship.', 'That', 'fail.', 'To', 'Obi-Wan', 'listen!', 'Remember', 'failure', 'cave!', 'Stopped', 'On', 'all', 'depends.', 'Only', 'fully', 'Knight', 'conquer', 'Vader', 'Emperor.', 'end', 'training', 'now,', 'if', 'choose', 'easy', 'path', 'did,', 'an', 'agent', 'evil.', 'Strong', 'Vader.', 'Mind', 'Save', 'can!', 'Told', 'did.', 'Reckless', 'he!', 'Now', 'worse.', 'another.', 'face', 'make.', 'young', 'eyes?', 'Sick', 'become.', 'nine', 'reach,', 'look', 'good', 'not!', 'Hmm?', 'rest.', 'Earned', 'have.', 'Force,', 'but', 'strong.', 'Twilight', 'upon', 'soon', 'night', 'fall.', 'way', 'things,', 'No', 'require.', 'Already', 'which', 'need.', 'Your', 'father', 'he?', 'Unexpected', 'is,', 'unfortunate.', 'Unfortunate', 'rushed', 'him,', 'incomplete', 'training!', 'Not', 'ready', 'burden', 'were', 'you!', 'Once', 'dark,', 'destiny.', 'Do', 'underestimate', 'powers', 'Emperor,', 'suffer', \"father's\", 'fate', 'Luke,', 'when', 'gone', 'I,', 'last', 'very', 'Republic', 'threatened', 'involved', 'Sith', 'are.', 'Hard', 'see', 'Discover', 'assassin', 'we', 'must.', 'With', 'Naboo', 'queen', 'stay.', 'May', 'Master', 'Qui-Gon,', 'vergence,', 'do!', 'Revealed', 'opinion', 'Trained', 'Jedi,', 'request', 'him?', 'Tested', 'Afraid,', 'See', 'through', 'Afraid', 'lose', 'her,', 'think.', 'Fear', 'leads', 'anger,', 'hate,', 'hate', 'suffering.', 'sense', 'much', 'fear', 'Then', 'continue', 'Correct', 'Qui-Gon.', 'Clouded', \"boy's\", 'Masked', 'youth.', 'An', 'apprentice', 'Impossible', 'take', 'second.', 'early', 'ready.', 'Our', 'council', 'More', 'learn', 'has.', 'Train', 'train', 'Confer', 'level', 'Coucil', 'does.', 'agree', 'taking', 'Padawan', 'learner,', 'Chosen', 'One', 'may', 'be;', 'nevertheless', 'grave', 'danger', \"Qui-Gon's\", 'defiance', 'Need', 'Agree', 'Skywalker', 'two', 'there', 'are,', 'more,', 'less.', 'master', 'Worse', 'than', 'war', 'fear.', 'see.', 'Dark', 'Side', 'clouds', 'everything.', 'sure', 'of:', 'their', 'duty', 'force', 'strong,', 'Senator.', 'alive', 'brings', 'warm', 'feelings', 'heart.', 'times', 'appears', 'be,', 'fact', 'remains', 'Senator,', 'Too', 'little', 'about', 'yourself', 'worry', 'politics.', 'Be', 'mindful', 'danger.', 'Masking', 'disturbance', 'force.', 'only', 'those', 'turned', 'can', 'possibilities', 'future.', 'going', 'Out', 'certainty', 'visitor', 'be?', 'Find', \"Gravity's\", 'silhouette', 'remains,', 'star', 'its', 'planets', 'disappeared.', 'Truly', 'wonderful', 'child', 'center', 'pull', 'gravity', 'go,', 'find', 'planet', 'harder', 'answer', 'question', 'Council', 'confident', 'decision', 'Obi-Wan.', 'Who', 'working', 'for,', 'discover', 'Inform', 'chancellor', 'this,', 'forename', 'Darth,', 'Perhaps', 'many', 'pieces', 'missing', 'puzzle', 'battalions', 'left!', 'Encircle', 'them', 'must,', 'then', 'divide.', 'interest', 'contests', 'Count,', 'defeat', 'was.', 'Yourself', 'speak', 'of,', 'know?', 'Careful', 'sensing', 'future,', 'Anakin.', 'loss', 'Death', 'natural', 'part', 'life.', 'Rejoice', 'transform', 'into', 'Mourn', 'not,', 'miss', 'Attachment', 'jealousy.', 'shadow', 'greed,', 'let', 'go', 'everything', 'lose.', 'Allow', 'appointment', 'lightly,', 'does', 'Disturbing', 'move', 'Chancellor', 'Palpatine.', 'Hiding', 'Outer', 'Rim,', 'Grievous', 'outlying', 'systems', 'sweep.', 'Kenobi,', 'our', 'spies', 'contact', 'wait.', 'Go,', 'Good', 'relations', 'Wookiees,', 'under', 'sway', 'Chancellor,', 'pride', 'powers.', 'prophecy', 'misread', 'could', 'been.', 'Act', 'capture', 'General', 'war.', 'Quickly', 'decisively', 'proceed.', 'needed,', 'experience.', 'Obi-Wan,', 'choice', 'now', 'Commander.', 'place', 'line', 'thought', 'carry', 'Great', 'care', 'take.', 'these.', 'Heard', 'one,', 'we.', 'Received', 'coded', 'retreat', 'message', 'Suggest', 'dismantling', 'signal,', 'ourselves.', 'might', 'light', 'way.', 'special', 'session', 'Congress', 'easier', 'enter', 'Temple', 'Dismantle', 'signal', 'quickly!', 'group', 'back', 'there,', 'discovered', 'Killed', 'clones', 'Padawan;', 'lightsaber', 'Clones', 'recalibration,', 'security', 'recordings', 'pain', 'find.', 'Destroy', 'Sith,', 'fight', 'Lord', 'Sidious,', 'strong', 'enough', 'Twisted', 'side,', 'trained,', 'is;', 'consumed', 'Darth', 'question,', 'Use', 'Surprised,', 'anything', 'have!', 'At', 'rule', 'short', 'run?', 'Faith', 'new', 'misplaced', 'faith', 'Hurry!', 'timing', 'Into', 'exile', 'Failed', 'Hidden,', 'safe,', 'children', 'kept.', 'Split', 'up,', 'family', 'send', 'solitude', 'Tatooine,', '$top']\n"
     ]
    }
   ],
   "source": [
    "c = SentenceGenerator(\"yoda.txt\")"
   ]
  },
  {
   "cell_type": "code",
   "execution_count": null,
   "metadata": {
    "collapsed": true
   },
   "outputs": [],
   "source": [
    "    def babble(self):\n",
    "        \"\"\"Begin at the start sate and use the strategy from\n",
    "        four_state_forecast() to transition through the Markov chain.\n",
    "        Keep track of the path through the chain and the corresponding words.\n",
    "        When the stop state is reached, stop transitioning and terminate the\n",
    "        sentence. Return the resulting sentence as a single string.\n",
    "        \"\"\"\n",
    "        raise NotImplementedError(\"Problem 6 Incomplete\")"
   ]
  }
 ],
 "metadata": {
  "kernelspec": {
   "display_name": "Python 3",
   "language": "python",
   "name": "python3"
  },
  "language_info": {
   "codemirror_mode": {
    "name": "ipython",
    "version": 3
   },
   "file_extension": ".py",
   "mimetype": "text/x-python",
   "name": "python",
   "nbconvert_exporter": "python",
   "pygments_lexer": "ipython3",
   "version": "3.6.6"
  }
 },
 "nbformat": 4,
 "nbformat_minor": 2
}
